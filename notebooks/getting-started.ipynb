{
 "cells": [
  {
   "cell_type": "markdown",
   "id": "92df3e19",
   "metadata": {},
   "source": [
    "### Dependencies\n",
    "\n",
    "You can install all the depenencies neccessary using pip. It is recommended to use a virtualenv to protect your user level python installation.\n",
    "\n",
    "\n",
    "```bash\n",
    "# create a virtualenv in project directory\n",
    "python3 -m venv venv && source venv/bin/activate && pip install -r requirements.txt\n",
    "```"
   ]
  },
  {
   "cell_type": "code",
   "execution_count": 32,
   "id": "a1c338fa",
   "metadata": {},
   "outputs": [],
   "source": [
    "import os\n",
    "import sys\n",
    "import torch\n",
    "import torchvision\n",
    "import pandas as pd\n",
    "import numpy as np\n",
    "import matplotlib.pyplot as plt"
   ]
  },
  {
   "cell_type": "code",
   "execution_count": 33,
   "id": "418a066c",
   "metadata": {},
   "outputs": [
    {
     "data": {
      "text/plain": [
       "121393"
      ]
     },
     "execution_count": 33,
     "metadata": {},
     "output_type": "execute_result"
    }
   ],
   "source": [
    "import common.example\n",
    "\n",
    "# helper for ensuring we can import, otherwise it depends on where you start notebook from\n",
    "if \"common\" not in sys.path:\n",
    "    sys.path.append(\"../\")\n",
    "\n",
    "example.memoed_fib(25)"
   ]
  },
  {
   "cell_type": "markdown",
   "id": "770ddd84",
   "metadata": {},
   "source": []
  }
 ],
 "metadata": {
  "kernelspec": {
   "display_name": "Python 3 (ipykernel)",
   "language": "python",
   "name": "python3"
  },
  "language_info": {
   "codemirror_mode": {
    "name": "ipython",
    "version": 3
   },
   "file_extension": ".py",
   "mimetype": "text/x-python",
   "name": "python",
   "nbconvert_exporter": "python",
   "pygments_lexer": "ipython3",
   "version": "3.11.1"
  }
 },
 "nbformat": 4,
 "nbformat_minor": 5
}
