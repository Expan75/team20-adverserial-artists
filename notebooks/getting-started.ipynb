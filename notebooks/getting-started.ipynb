{
 "cells": [
  {
   "cell_type": "markdown",
   "id": "92df3e19",
   "metadata": {},
   "source": [
    "### Dependencies\n",
    "\n",
    "You can install all the depenencies neccessary using pip. It is recommended to use a virtualenv to protect your user level python installation.\n",
    "\n",
    "\n",
    "```bash\n",
    "# create a virtualenv in project directory\n",
    "python3 -m venv venv && source venv/bin/activate && pip install -r requirements.txt\n",
    "```"
   ]
  },
  {
   "cell_type": "code",
   "execution_count": 13,
   "id": "a1c338fa",
   "metadata": {},
   "outputs": [],
   "source": [
    "import os\n",
    "import sys\n",
    "import torch\n",
    "import torchvision\n",
    "import pandas as pd\n",
    "import numpy as np\n",
    "import matplotlib.pyplot as plt"
   ]
  },
  {
   "cell_type": "code",
   "execution_count": 29,
   "id": "418a066c",
   "metadata": {},
   "outputs": [
    {
     "data": {
      "text/plain": [
       "75025"
      ]
     },
     "execution_count": 29,
     "metadata": {},
     "output_type": "execute_result"
    }
   ],
   "source": [
    "# helper for ensuring we can import, otherwise it depends on where you start notebook from\n",
    "if \"common\" not in sys.path:\n",
    "    sys.path.append(\"..\")\n",
    "\n",
    "import common\n",
    "\n",
    "# test run an import to ensure we can import\n",
    "common.example.memoed_fib(25)"
   ]
  },
  {
   "cell_type": "markdown",
   "id": "f2aa2c69",
   "metadata": {},
   "source": [
    "## Downloading MNIST dataset\n",
    "\n",
    "See README instructions for how to use the mnist fetch script. The script will downlaod the mnist set into the ./datasets/mnist directory. Feel free to move it elsewhere."
   ]
  },
  {
   "cell_type": "markdown",
   "id": "b4466b73",
   "metadata": {},
   "source": [
    "## Loading and inspecting the dataset"
   ]
  },
  {
   "cell_type": "code",
   "execution_count": 31,
   "id": "66f8ef58",
   "metadata": {},
   "outputs": [
    {
     "data": {
      "text/plain": [
       "['t10k-images-idx3-ubyte.gz',\n",
       " 'train-images-idx3-ubyte.gz',\n",
       " 'train-labels-idx1-ubyte.gz',\n",
       " 't10k-labels-idx1-ubyte.gz']"
      ]
     },
     "execution_count": 31,
     "metadata": {},
     "output_type": "execute_result"
    }
   ],
   "source": [
    "DEFAULT_DATA_DIR = \"../datasets/mnist\"\n",
    "os.listdir(DEFAULT_DATA_DIR)"
   ]
  },
  {
   "cell_type": "code",
   "execution_count": null,
   "id": "32005f9b",
   "metadata": {},
   "outputs": [],
   "source": []
  }
 ],
 "metadata": {
  "kernelspec": {
   "display_name": "Python 3 (ipykernel)",
   "language": "python",
   "name": "python3"
  },
  "language_info": {
   "codemirror_mode": {
    "name": "ipython",
    "version": 3
   },
   "file_extension": ".py",
   "mimetype": "text/x-python",
   "name": "python",
   "nbconvert_exporter": "python",
   "pygments_lexer": "ipython3",
   "version": "3.11.1"
  }
 },
 "nbformat": 4,
 "nbformat_minor": 5
}
