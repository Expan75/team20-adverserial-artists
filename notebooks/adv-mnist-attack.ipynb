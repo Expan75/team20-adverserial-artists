{
 "cells": [
  {
   "cell_type": "markdown",
   "id": "92df3e19",
   "metadata": {},
   "source": [
    "### Dependencies\n",
    "\n",
    "You can install all the depenencies neccessary using pip. It is recommended to use a virtualenv to protect your user level python installation.\n",
    "\n",
    "\n",
    "```bash\n",
    "# create a virtualenv in project directory\n",
    "python3 -m venv venv && source venv/bin/activate && pip install -r requirements.txt\n",
    "\n",
    "# open notebook\n",
    "python3 -m jupyter notebook notebooks/getting-started.ipynb\n",
    "```"
   ]
  },
  {
   "cell_type": "code",
   "execution_count": 582,
   "id": "a1c338fa",
   "metadata": {},
   "outputs": [],
   "source": [
    "import os\n",
    "import sys\n",
    "import torch\n",
    "import hashlib\n",
    "import seaborn as sns\n",
    "import pandas as pd\n",
    "import numpy as np\n",
    "import matplotlib.pyplot as plt\n",
    "import torchvision\n",
    "import torch.nn as nn\n",
    "import torch.nn.functional as F\n",
    "from sklearn.manifold import TSNE\n",
    "from torch.utils.data import DataLoader, Dataset\n",
    "from abc import ABC\n",
    "from tqdm import tqdm\n",
    "from functools import partial\n",
    "from dataclasses import dataclass\n",
    "from typing import Optional\n",
    "from abc import ABC\n",
    "from tqdm import tqdm\n",
    "from functools import partial\n",
    "from dataclasses import dataclass\n",
    "from typing import Optional, Any, Dict, List, Tuple"
   ]
  },
  {
   "cell_type": "code",
   "execution_count": 721,
   "id": "f46315ae-38b0-48ba-a414-a88a029ce5f4",
   "metadata": {},
   "outputs": [
    {
     "data": {
      "text/plain": [
       "tensor([[[0.1676, 0.3075, 0.5861],\n",
       "         [0.4520, 0.5286, 0.4316],\n",
       "         [0.2927, 0.0031, 0.2506]]])"
      ]
     },
     "execution_count": 721,
     "metadata": {},
     "output_type": "execute_result"
    }
   ],
   "source": [
    "torch.rand((1,3,3))"
   ]
  },
  {
   "cell_type": "code",
   "execution_count": 724,
   "id": "b9b86e4c-5535-4e71-b2ee-8713ecc01ab9",
   "metadata": {},
   "outputs": [
    {
     "data": {
      "text/plain": [
       "torch.Size([1, 3, 3])"
      ]
     },
     "execution_count": 724,
     "metadata": {},
     "output_type": "execute_result"
    }
   ],
   "source": [
    "torch.rand((3,3)).reshape(1, 3, 3).shape"
   ]
  },
  {
   "cell_type": "code",
   "execution_count": 583,
   "id": "96ae2401-1271-45b9-bd29-936a637abaa9",
   "metadata": {},
   "outputs": [],
   "source": [
    "parent = os.path.dirname(os.getcwd())\n",
    "if \"notebooks\" in parent:\n",
    "    parent = os.path.dirname(parent)\n",
    "sys.path.append(parent)"
   ]
  },
  {
   "cell_type": "code",
   "execution_count": 584,
   "id": "418a066c",
   "metadata": {},
   "outputs": [
    {
     "data": {
      "text/plain": [
       "75025"
      ]
     },
     "execution_count": 584,
     "metadata": {},
     "output_type": "execute_result"
    }
   ],
   "source": [
    "from common import example\n",
    "\n",
    "# test run an import to ensure we can import\n",
    "example.memoed_fib(25)"
   ]
  },
  {
   "cell_type": "code",
   "execution_count": 585,
   "id": "ea1fac6c-9180-4169-924e-0b09cad99a17",
   "metadata": {},
   "outputs": [],
   "source": [
    "class Metric(ABC):\n",
    "    @abstractmethod\n",
    "    def score(dataset, model) -> float:\n",
    "        pass\n",
    "\n",
    "@dataclass\n",
    "class ExperimentParameters:\n",
    "    epochs = 100\n",
    "    loss = torch.nn.CrossEntropyLoss()\n",
    "    optimizer = partial(torch.optim.Adam, lr=0.01, weight_decay=5e-4)\n",
    "    # metrics: List[Metric]"
   ]
  },
  {
   "cell_type": "code",
   "execution_count": 586,
   "id": "a74a72d1-2aa2-41d2-a755-d2a4468d1987",
   "metadata": {},
   "outputs": [],
   "source": [
    "# misc useful funttions\n",
    "def np_to_md5(value: np.ndarray) -> str:\n",
    "    return hashlib.md5(value.flatten().astype(\"uint8\")).hexdigest()"
   ]
  },
  {
   "cell_type": "markdown",
   "id": "b4466b73",
   "metadata": {},
   "source": [
    "# Baseline MNIST classifier (to be attacked)"
   ]
  },
  {
   "cell_type": "code",
   "execution_count": 587,
   "id": "66f8ef58",
   "metadata": {},
   "outputs": [],
   "source": [
    "KERAS_DIRECTORY = os.path.expanduser(\"~/.keras/datasets\")\n",
    "MNIST_FILEPATH = os.path.join(KERAS_DIRECTORY, \"mnist.npz\")"
   ]
  },
  {
   "cell_type": "code",
   "execution_count": 588,
   "id": "d92bda1d-7ccb-4b79-9961-bce352e34131",
   "metadata": {},
   "outputs": [],
   "source": [
    "train, *_ = dict(np.load(MNIST_FILEPATH)).values()"
   ]
  },
  {
   "cell_type": "code",
   "execution_count": 589,
   "id": "83866706-735c-43e0-b248-46566c635381",
   "metadata": {},
   "outputs": [
    {
     "data": {
      "text/plain": [
       "<matplotlib.image.AxesImage at 0x144d47590>"
      ]
     },
     "execution_count": 589,
     "metadata": {},
     "output_type": "execute_result"
    },
    {
     "data": {
      "image/png": "[encoded data removed]",
      "text/plain": [
       "<Figure size 640x480 with 1 Axes>"
      ]
     },
     "metadata": {},
     "output_type": "display_data"
    }
   ],
   "source": [
    "plt.imshow(train[0, :])"
   ]
  },
  {
   "cell_type": "code",
   "execution_count": 761,
   "id": "dcc072b0-d5cc-4e24-92bd-d0f02950f579",
   "metadata": {},
   "outputs": [],
   "source": [
    "class InMemoryMNIST(Dataset):\n",
    "\n",
    "    # torch conv layers require images of shape (idx, channels,    \n",
    "    def __init__(self, filepath: str, test_set: bool = False):\n",
    "        x_test, x_train, y_train, y_test = dict(np.load(filepath)).values()\n",
    "        self.x = torch.as_tensor(x_test if test_set else x_train, dtype=torch.float32)\n",
    "        self.y = torch.as_tensor(y_test if test_set else y_train, dtype=torch.float32)\n",
    "\n",
    "        # torch conv layers require images of shape (idx, channels, width, height)\n",
    "        self.x = self.x.reshape(self.x.shape[0], 1, 28, 28)\n",
    "    \n",
    "    def __len__(self):\n",
    "        return self.x.shape[0]\n",
    "\n",
    "    def __getitem__(self, idx: int):\n",
    "        return self.x[idx, :, :], self.y[idx]\n",
    "\n",
    "    def loader(self, batch_size: int = 2, shuffle: bool = True) -> DataLoader:\n",
    "        return DataLoader(self, shuffle=shuffle, batch_size=batch_size)\n",
    "\n",
    "training_set = InMemoryMNIST(MNIST_FILEPATH, test_set=False).loader()\n",
    "testing_set = InMemoryMNIST(MNIST_FILEPATH, test_set=True).loader()"
   ]
  },
  {
   "cell_type": "code",
   "execution_count": 762,
   "id": "ceb54f9e-86dc-406d-b534-32c70afd118c",
   "metadata": {},
   "outputs": [],
   "source": [
    "class Metric(ABC):\n",
    "    @abstractmethod\n",
    "    def evaluate(dataset, model, *args, **kwargs) -> float:\n",
    "        pass\n",
    "\n",
    "@dataclass\n",
    "class ExperimentParameters:\n",
    "    epochs = 100\n",
    "    model: nn.Module = BaseCNNClassifier\n",
    "    loss = torch.nn.CrossEntropyLoss\n",
    "    optimizer = partial(torch.optim.Adam, lr=0.01, weight_decay=5e-4)\n",
    "    description: str = \"\""
   ]
  },
  {
   "cell_type": "code",
   "execution_count": 771,
   "id": "ea6d7d2c-6f75-44e0-b5dd-15600da69502",
   "metadata": {},
   "outputs": [],
   "source": [
    "class BaseCNNClassifier(nn.Module):\n",
    "\n",
    "    def __init__(self):\n",
    "        super().__init__()\n",
    "        self.conv1 = nn.Conv2d(1, 1, kernel_size=(2, 2), stride=2)              # 28x28 -> 14x14 -> CHECKS OUT\n",
    "        self.pool1 = nn.MaxPool2d(kernel_size=(2, 2), stride=2)                           \n",
    "        self.conv2 = nn.Conv2d(1, 1, kernel_size=(2, 4), stride=2)\n",
    "        \n",
    "        self.fc1 = nn.Linear(10, 10)\n",
    "        self.fc2 = nn.Linear(10, 10)\n",
    "\n",
    "    def forward(self, x):        \n",
    "        x = self.pool1(F.relu(self.conv1(x)))\n",
    "        print(x.shape)\n",
    "        x = self.pool1(F.relu(self.conv2(x)))\n",
    "        print(x.shape)\n",
    "        x = torch.flatten(x, 1)\n",
    "        print(x.shape)\n",
    "        x = F.relu(self.fc1(x))\n",
    "        print(x.shape)\n",
    "        x = F.softmax(self.fc2(x))\n",
    "        print(x.shape)\n",
    "        \n",
    "        return x"
   ]
  },
  {
   "cell_type": "code",
   "execution_count": 772,
   "id": "9b2570a5-3fb5-4480-91df-de56384b122f",
   "metadata": {},
   "outputs": [
    {
     "data": {
      "text/plain": [
       "BaseCNNClassifier(\n",
       "  (conv1): Conv2d(1, 1, kernel_size=(2, 2), stride=(2, 2))\n",
       "  (pool1): MaxPool2d(kernel_size=(2, 2), stride=2, padding=0, dilation=1, ceil_mode=False)\n",
       "  (conv2): Conv2d(1, 10, kernel_size=(2, 2), stride=(2, 2))\n",
       "  (fc1): Linear(in_features=10, out_features=10, bias=True)\n",
       "  (fc2): Linear(in_features=10, out_features=10, bias=True)\n",
       ")"
      ]
     },
     "execution_count": 772,
     "metadata": {},
     "output_type": "execute_result"
    }
   ],
   "source": [
    "model = BaseCNNClassifier()\n",
    "model"
   ]
  },
  {
   "cell_type": "code",
   "execution_count": 773,
   "id": "be12005c-5211-46ed-a3ad-da927edf7b0e",
   "metadata": {},
   "outputs": [],
   "source": [
    "def train(dataset, params: ExperimentParameters):\n",
    "\n",
    "    model = params.model()\n",
    "    opt = params.optimizer(model.parameters())\n",
    "    loss_function = params.loss()\n",
    "\n",
    "    with tqdm(range(1, params.epochs + 1), desc=\"epoch training loss\", leave=True) as epochs:\n",
    "        model.train()\n",
    "        for epoch in epochs:\n",
    "            for batch in training_set:\n",
    "                images, labels = batch\n",
    "                print(f\"{images.shape=}\")\n",
    "                opt.zero_grad()\n",
    "                prob = model(images)\n",
    "                loss = loss_function(yhat.argmax(axis=1), labels)\n",
    "                loss.backward()\n",
    "                opt.step()\n",
    "                epochs.set_description(f\"{epoch=:03d}, {loss=:.4f}\")\n",
    "\n",
    "    return model"
   ]
  },
  {
   "cell_type": "code",
   "execution_count": 774,
   "id": "5abcf37f-5084-435a-b8ec-f7ae8324e9c5",
   "metadata": {},
   "outputs": [
    {
     "name": "stderr",
     "output_type": "stream",
     "text": [
      "epoch training loss:   0%|                              | 0/100 [00:00<?, ?it/s]"
     ]
    },
    {
     "name": "stdout",
     "output_type": "stream",
     "text": [
      "images.shape=torch.Size([2, 1, 28, 28])\n",
      "torch.Size([2, 1, 7, 7])\n",
      "torch.Size([2, 1, 1, 1])\n",
      "torch.Size([2, 1])\n"
     ]
    },
    {
     "name": "stderr",
     "output_type": "stream",
     "text": [
      "\n"
     ]
    },
    {
     "ename": "RuntimeError",
     "evalue": "mat1 and mat2 shapes cannot be multiplied (2x1 and 10x10)",
     "output_type": "error",
     "traceback": [
      "\u001b[0;31m---------------------------------------------------------------------------\u001b[0m",
      "\u001b[0;31mRuntimeError\u001b[0m                              Traceback (most recent call last)",
      "Cell \u001b[0;32mIn[774], line 1\u001b[0m\n\u001b[0;32m----> 1\u001b[0m \u001b[43mtrain\u001b[49m\u001b[43m(\u001b[49m\u001b[43mtraining_set\u001b[49m\u001b[43m,\u001b[49m\u001b[43m \u001b[49m\u001b[43mExperimentParameters\u001b[49m\u001b[43m(\u001b[49m\u001b[43m)\u001b[49m\u001b[43m)\u001b[49m\n",
      "Cell \u001b[0;32mIn[773], line 14\u001b[0m, in \u001b[0;36mtrain\u001b[0;34m(dataset, params)\u001b[0m\n\u001b[1;32m     12\u001b[0m \u001b[38;5;28mprint\u001b[39m(\u001b[38;5;124mf\u001b[39m\u001b[38;5;124m\"\u001b[39m\u001b[38;5;132;01m{\u001b[39;00mimages\u001b[38;5;241m.\u001b[39mshape\u001b[38;5;132;01m=}\u001b[39;00m\u001b[38;5;124m\"\u001b[39m)\n\u001b[1;32m     13\u001b[0m opt\u001b[38;5;241m.\u001b[39mzero_grad()\n\u001b[0;32m---> 14\u001b[0m prob \u001b[38;5;241m=\u001b[39m \u001b[43mmodel\u001b[49m\u001b[43m(\u001b[49m\u001b[43mimages\u001b[49m\u001b[43m)\u001b[49m\n\u001b[1;32m     15\u001b[0m loss \u001b[38;5;241m=\u001b[39m loss_function(yhat\u001b[38;5;241m.\u001b[39margmax(axis\u001b[38;5;241m=\u001b[39m\u001b[38;5;241m1\u001b[39m), labels)\n\u001b[1;32m     16\u001b[0m loss\u001b[38;5;241m.\u001b[39mbackward()\n",
      "File \u001b[0;32m~/uni/chalmers/team20-adverserial-artists/venv/lib/python3.11/site-packages/torch/nn/modules/module.py:1511\u001b[0m, in \u001b[0;36mModule._wrapped_call_impl\u001b[0;34m(self, *args, **kwargs)\u001b[0m\n\u001b[1;32m   1509\u001b[0m     \u001b[38;5;28;01mreturn\u001b[39;00m \u001b[38;5;28mself\u001b[39m\u001b[38;5;241m.\u001b[39m_compiled_call_impl(\u001b[38;5;241m*\u001b[39margs, \u001b[38;5;241m*\u001b[39m\u001b[38;5;241m*\u001b[39mkwargs)  \u001b[38;5;66;03m# type: ignore[misc]\u001b[39;00m\n\u001b[1;32m   1510\u001b[0m \u001b[38;5;28;01melse\u001b[39;00m:\n\u001b[0;32m-> 1511\u001b[0m     \u001b[38;5;28;01mreturn\u001b[39;00m \u001b[38;5;28;43mself\u001b[39;49m\u001b[38;5;241;43m.\u001b[39;49m\u001b[43m_call_impl\u001b[49m\u001b[43m(\u001b[49m\u001b[38;5;241;43m*\u001b[39;49m\u001b[43margs\u001b[49m\u001b[43m,\u001b[49m\u001b[43m \u001b[49m\u001b[38;5;241;43m*\u001b[39;49m\u001b[38;5;241;43m*\u001b[39;49m\u001b[43mkwargs\u001b[49m\u001b[43m)\u001b[49m\n",
      "File \u001b[0;32m~/uni/chalmers/team20-adverserial-artists/venv/lib/python3.11/site-packages/torch/nn/modules/module.py:1520\u001b[0m, in \u001b[0;36mModule._call_impl\u001b[0;34m(self, *args, **kwargs)\u001b[0m\n\u001b[1;32m   1515\u001b[0m \u001b[38;5;66;03m# If we don't have any hooks, we want to skip the rest of the logic in\u001b[39;00m\n\u001b[1;32m   1516\u001b[0m \u001b[38;5;66;03m# this function, and just call forward.\u001b[39;00m\n\u001b[1;32m   1517\u001b[0m \u001b[38;5;28;01mif\u001b[39;00m \u001b[38;5;129;01mnot\u001b[39;00m (\u001b[38;5;28mself\u001b[39m\u001b[38;5;241m.\u001b[39m_backward_hooks \u001b[38;5;129;01mor\u001b[39;00m \u001b[38;5;28mself\u001b[39m\u001b[38;5;241m.\u001b[39m_backward_pre_hooks \u001b[38;5;129;01mor\u001b[39;00m \u001b[38;5;28mself\u001b[39m\u001b[38;5;241m.\u001b[39m_forward_hooks \u001b[38;5;129;01mor\u001b[39;00m \u001b[38;5;28mself\u001b[39m\u001b[38;5;241m.\u001b[39m_forward_pre_hooks\n\u001b[1;32m   1518\u001b[0m         \u001b[38;5;129;01mor\u001b[39;00m _global_backward_pre_hooks \u001b[38;5;129;01mor\u001b[39;00m _global_backward_hooks\n\u001b[1;32m   1519\u001b[0m         \u001b[38;5;129;01mor\u001b[39;00m _global_forward_hooks \u001b[38;5;129;01mor\u001b[39;00m _global_forward_pre_hooks):\n\u001b[0;32m-> 1520\u001b[0m     \u001b[38;5;28;01mreturn\u001b[39;00m \u001b[43mforward_call\u001b[49m\u001b[43m(\u001b[49m\u001b[38;5;241;43m*\u001b[39;49m\u001b[43margs\u001b[49m\u001b[43m,\u001b[49m\u001b[43m \u001b[49m\u001b[38;5;241;43m*\u001b[39;49m\u001b[38;5;241;43m*\u001b[39;49m\u001b[43mkwargs\u001b[49m\u001b[43m)\u001b[49m\n\u001b[1;32m   1522\u001b[0m \u001b[38;5;28;01mtry\u001b[39;00m:\n\u001b[1;32m   1523\u001b[0m     result \u001b[38;5;241m=\u001b[39m \u001b[38;5;28;01mNone\u001b[39;00m\n",
      "Cell \u001b[0;32mIn[763], line 19\u001b[0m, in \u001b[0;36mBaseCNNClassifier.forward\u001b[0;34m(self, x)\u001b[0m\n\u001b[1;32m     17\u001b[0m x \u001b[38;5;241m=\u001b[39m torch\u001b[38;5;241m.\u001b[39mflatten(x, \u001b[38;5;241m1\u001b[39m)\n\u001b[1;32m     18\u001b[0m \u001b[38;5;28mprint\u001b[39m(x\u001b[38;5;241m.\u001b[39mshape)\n\u001b[0;32m---> 19\u001b[0m x \u001b[38;5;241m=\u001b[39m F\u001b[38;5;241m.\u001b[39mrelu(\u001b[38;5;28;43mself\u001b[39;49m\u001b[38;5;241;43m.\u001b[39;49m\u001b[43mfc1\u001b[49m\u001b[43m(\u001b[49m\u001b[43mx\u001b[49m\u001b[43m)\u001b[49m)\n\u001b[1;32m     20\u001b[0m \u001b[38;5;28mprint\u001b[39m(x\u001b[38;5;241m.\u001b[39mshape)\n\u001b[1;32m     21\u001b[0m x \u001b[38;5;241m=\u001b[39m F\u001b[38;5;241m.\u001b[39msoftmax(\u001b[38;5;28mself\u001b[39m\u001b[38;5;241m.\u001b[39mfc2(x))\n",
      "File \u001b[0;32m~/uni/chalmers/team20-adverserial-artists/venv/lib/python3.11/site-packages/torch/nn/modules/module.py:1511\u001b[0m, in \u001b[0;36mModule._wrapped_call_impl\u001b[0;34m(self, *args, **kwargs)\u001b[0m\n\u001b[1;32m   1509\u001b[0m     \u001b[38;5;28;01mreturn\u001b[39;00m \u001b[38;5;28mself\u001b[39m\u001b[38;5;241m.\u001b[39m_compiled_call_impl(\u001b[38;5;241m*\u001b[39margs, \u001b[38;5;241m*\u001b[39m\u001b[38;5;241m*\u001b[39mkwargs)  \u001b[38;5;66;03m# type: ignore[misc]\u001b[39;00m\n\u001b[1;32m   1510\u001b[0m \u001b[38;5;28;01melse\u001b[39;00m:\n\u001b[0;32m-> 1511\u001b[0m     \u001b[38;5;28;01mreturn\u001b[39;00m \u001b[38;5;28;43mself\u001b[39;49m\u001b[38;5;241;43m.\u001b[39;49m\u001b[43m_call_impl\u001b[49m\u001b[43m(\u001b[49m\u001b[38;5;241;43m*\u001b[39;49m\u001b[43margs\u001b[49m\u001b[43m,\u001b[49m\u001b[43m \u001b[49m\u001b[38;5;241;43m*\u001b[39;49m\u001b[38;5;241;43m*\u001b[39;49m\u001b[43mkwargs\u001b[49m\u001b[43m)\u001b[49m\n",
      "File \u001b[0;32m~/uni/chalmers/team20-adverserial-artists/venv/lib/python3.11/site-packages/torch/nn/modules/module.py:1520\u001b[0m, in \u001b[0;36mModule._call_impl\u001b[0;34m(self, *args, **kwargs)\u001b[0m\n\u001b[1;32m   1515\u001b[0m \u001b[38;5;66;03m# If we don't have any hooks, we want to skip the rest of the logic in\u001b[39;00m\n\u001b[1;32m   1516\u001b[0m \u001b[38;5;66;03m# this function, and just call forward.\u001b[39;00m\n\u001b[1;32m   1517\u001b[0m \u001b[38;5;28;01mif\u001b[39;00m \u001b[38;5;129;01mnot\u001b[39;00m (\u001b[38;5;28mself\u001b[39m\u001b[38;5;241m.\u001b[39m_backward_hooks \u001b[38;5;129;01mor\u001b[39;00m \u001b[38;5;28mself\u001b[39m\u001b[38;5;241m.\u001b[39m_backward_pre_hooks \u001b[38;5;129;01mor\u001b[39;00m \u001b[38;5;28mself\u001b[39m\u001b[38;5;241m.\u001b[39m_forward_hooks \u001b[38;5;129;01mor\u001b[39;00m \u001b[38;5;28mself\u001b[39m\u001b[38;5;241m.\u001b[39m_forward_pre_hooks\n\u001b[1;32m   1518\u001b[0m         \u001b[38;5;129;01mor\u001b[39;00m _global_backward_pre_hooks \u001b[38;5;129;01mor\u001b[39;00m _global_backward_hooks\n\u001b[1;32m   1519\u001b[0m         \u001b[38;5;129;01mor\u001b[39;00m _global_forward_hooks \u001b[38;5;129;01mor\u001b[39;00m _global_forward_pre_hooks):\n\u001b[0;32m-> 1520\u001b[0m     \u001b[38;5;28;01mreturn\u001b[39;00m \u001b[43mforward_call\u001b[49m\u001b[43m(\u001b[49m\u001b[38;5;241;43m*\u001b[39;49m\u001b[43margs\u001b[49m\u001b[43m,\u001b[49m\u001b[43m \u001b[49m\u001b[38;5;241;43m*\u001b[39;49m\u001b[38;5;241;43m*\u001b[39;49m\u001b[43mkwargs\u001b[49m\u001b[43m)\u001b[49m\n\u001b[1;32m   1522\u001b[0m \u001b[38;5;28;01mtry\u001b[39;00m:\n\u001b[1;32m   1523\u001b[0m     result \u001b[38;5;241m=\u001b[39m \u001b[38;5;28;01mNone\u001b[39;00m\n",
      "File \u001b[0;32m~/uni/chalmers/team20-adverserial-artists/venv/lib/python3.11/site-packages/torch/nn/modules/linear.py:116\u001b[0m, in \u001b[0;36mLinear.forward\u001b[0;34m(self, input)\u001b[0m\n\u001b[1;32m    115\u001b[0m \u001b[38;5;28;01mdef\u001b[39;00m \u001b[38;5;21mforward\u001b[39m(\u001b[38;5;28mself\u001b[39m, \u001b[38;5;28minput\u001b[39m: Tensor) \u001b[38;5;241m-\u001b[39m\u001b[38;5;241m>\u001b[39m Tensor:\n\u001b[0;32m--> 116\u001b[0m     \u001b[38;5;28;01mreturn\u001b[39;00m \u001b[43mF\u001b[49m\u001b[38;5;241;43m.\u001b[39;49m\u001b[43mlinear\u001b[49m\u001b[43m(\u001b[49m\u001b[38;5;28;43minput\u001b[39;49m\u001b[43m,\u001b[49m\u001b[43m \u001b[49m\u001b[38;5;28;43mself\u001b[39;49m\u001b[38;5;241;43m.\u001b[39;49m\u001b[43mweight\u001b[49m\u001b[43m,\u001b[49m\u001b[43m \u001b[49m\u001b[38;5;28;43mself\u001b[39;49m\u001b[38;5;241;43m.\u001b[39;49m\u001b[43mbias\u001b[49m\u001b[43m)\u001b[49m\n",
      "\u001b[0;31mRuntimeError\u001b[0m: mat1 and mat2 shapes cannot be multiplied (2x1 and 10x10)"
     ]
    }
   ],
   "source": [
    "train(training_set, ExperimentParameters())"
   ]
  },
  {
   "cell_type": "code",
   "execution_count": null,
   "id": "35d8da15-7c78-4681-900d-3a45aea38759",
   "metadata": {},
   "outputs": [],
   "source": []
  },
  {
   "cell_type": "code",
   "execution_count": null,
   "id": "ec2fcc2b-a2b6-4682-98a0-5c5381522543",
   "metadata": {},
   "outputs": [],
   "source": []
  }
 ],
 "metadata": {
  "kernelspec": {
   "display_name": "Python 3 (ipykernel)",
   "language": "python",
   "name": "python3"
  },
  "language_info": {
   "codemirror_mode": {
    "name": "ipython",
    "version": 3
   },
   "file_extension": ".py",
   "mimetype": "text/x-python",
   "name": "python",
   "nbconvert_exporter": "python",
   "pygments_lexer": "ipython3",
   "version": "3.11.1"
  }
 },
 "nbformat": 4,
 "nbformat_minor": 5
}
